{
 "metadata": {
  "name": "",
  "signature": "sha256:0ec5fe36786b8ce6d2f81ee50a07bb5b292cc462ab2d7cf636621baa1637217e"
 },
 "nbformat": 3,
 "nbformat_minor": 0,
 "worksheets": [
  {
   "cells": [
    {
     "cell_type": "heading",
     "level": 1,
     "metadata": {},
     "source": [
      "Users"
     ]
    },
    {
     "cell_type": "heading",
     "level": 2,
     "metadata": {},
     "source": [
      "Getting started"
     ]
    },
    {
     "cell_type": "heading",
     "level": 3,
     "metadata": {},
     "source": [
      "Installation"
     ]
    },
    {
     "cell_type": "markdown",
     "metadata": {},
     "source": [
      "**Users** is a Django application, indipendent from any Django project.\n",
      "\n",
      "To use **Users** in your project, edit your `settings.py` file adding it to `INSTALLED_APPS` and properly setting `AUTH_USER_MODEL`, `LOGIN_URL` and `LOGOUT_URL` as follow:"
     ]
    },
    {
     "cell_type": "code",
     "collapsed": false,
     "input": [
      "INSTALLED_APPS = (\n",
      "    'django.contrib.admin',\n",
      "    'django.contrib.auth',\n",
      "    'django.contrib.contenttypes',\n",
      "    'django.contrib.sessions',\n",
      "    'django.contrib.messages',\n",
      "    'django.contrib.staticfiles',\n",
      "    # ...\n",
      "    # your apps go here\n",
      "    # ...\n",
      "    'users',\n",
      ")\n",
      "# ...\n",
      "AUTH_USER_MODEL = 'users.MostUser'\n",
      "\n",
      "LOGIN_URL = '/users/user/login/'\n",
      "LOGOUT_URL = '/users/user/logout/'"
     ],
     "language": "python",
     "metadata": {},
     "outputs": []
    },
    {
     "cell_type": "heading",
     "level": 3,
     "metadata": {},
     "source": [
      "REST APIs"
     ]
    },
    {
     "cell_type": "markdown",
     "metadata": {},
     "source": [
      "The following **HowTo** makes use of `requests` and `json` module.\n",
      "\n",
      "The sample blocks of code illustrate how to use them making use of the **[helper shown in this module](http://localhost:8888/notebooks/UsersHelper.ipynb)**.\n",
      "\n",
      "Verify that the istance with **MOST** library is up and running.\n",
      "\n",
      "Run the Django server instance from the project folder with the following command:\n",
      "\n",
      "    PYTHONPATH=.. python manage.py runserver\n",
      "\n",
      "\n",
      "_**Run the following login API before run others:**_"
     ]
    },
    {
     "cell_type": "code",
     "collapsed": false,
     "input": [
      "# -*- coding: utf-8 -*-\n",
      "\n",
      "# API: /users/user/login/\n",
      "\n",
      "from helper import *\n",
      "\n",
      "\n",
      "USER_DATA = {\n",
      "    'username': 'admintest',\n",
      "    'password': 'admintest',\n",
      "}\n",
      "\n",
      "user = compose_post_request('/users/user/login/', USER_DATA)\n",
      "print_response_data('user', user)"
     ],
     "language": "python",
     "metadata": {},
     "outputs": []
    },
    {
     "cell_type": "heading",
     "level": 4,
     "metadata": {},
     "source": [
      "TaskGroup module"
     ]
    },
    {
     "cell_type": "markdown",
     "metadata": {},
     "source": [
      "TaskGroup module provides the following web API:\n",
      "\n",
      "* `/users/task_group/search/`\n",
      "\n",
      "* `/users/task_group/new/`\n",
      "\n",
      "* `/users/task_group/(?P<task_group_id>\\d+)/get_task_group_info/`\n",
      "\n",
      "* `/users/task_group/(?P<task_group_id>\\d+)/edit/`\n",
      "\n",
      "* `/users/task_group/list_available_states/`\n",
      "\n",
      "* `/users/task_group/(?P<task_group_id>\\d+)/set_active_state/(?P<active_state>\\w+)/`\n",
      "\n",
      "* `/users/task_group/(?P<task_group_id>\\d+)/is_provider/`\n",
      "\n",
      "* `/users/task_group/(?P<task_group_id>\\d+)/set_provider/`\n",
      "\n",
      "* `/users/task_group/(?P<task_group_id>\\d+)/add_user/(?P<user_id>\\d+)/`\n",
      "\n",
      "* `/users/task_group/(?P<task_group_id>\\d+)/remove_user/(?P<user_id>\\d+)/`\n",
      "\n",
      "* `/users/task_group/(?P<task_group_id>\\d+)/list_users/`\n",
      "\n",
      "* `/users/task_group/(?P<task_group_id>\\d+)/add_related_task_group/(?P<related_task_group_id>\\d+)/`\n",
      "\n",
      "* `/users/task_group/(?P<task_group_id>\\d+)/remove_related_task_group/(?P<related_task_group_id>\\d+)/`\n",
      "\n",
      "* `/users/task_group/(?P<task_group_id>\\d+)/list_related_task_groups/`\n",
      "\n",
      "* `/users/task_group/(?P<task_group_id>\\d+)/has_clinicians/`\n",
      "\n",
      "* `/users/task_group/(?P<task_group_id>\\d+)/list_clinicians/`\n",
      "\n",
      "* `/users/task_group/(?P<task_group_id>\\d+)/has_clinician_provider/`\n",
      "\n",
      "* `/users/task_group/(?P<task_group_id>\\d+)/list_clinician_providers/`"
     ]
    },
    {
     "cell_type": "code",
     "collapsed": false,
     "input": [
      "# -*- coding: utf-8 -*-\n",
      "\n",
      "# API: /users/task_group/search/\n",
      "\n",
      "from helper import *\n",
      "\n",
      "QUERY_STRING = 'CRS'\n",
      "\n",
      "task_groups = compose_get_request('/users/task_group/search/', QUERY_STRING)\n",
      "print_response_data('task_group', task_groups)"
     ],
     "language": "python",
     "metadata": {},
     "outputs": []
    },
    {
     "cell_type": "code",
     "collapsed": false,
     "input": [
      "# -*- coding: utf-8 -*-\n",
      "\n",
      "# API: /users/task_group/new/\n",
      "\n",
      "from helper import *\n",
      "\n",
      "TASK_GROUP_DATA = {\n",
      "    'title': 'Notebook group 7',\n",
      "    'description': 'Example task group, create by notebook user interface',\n",
      "    'task_group_type': 'HF',\n",
      "    'is_active': True,\n",
      "    'is_health_care_provider': True,\n",
      "}\n",
      "\n",
      "task_group = compose_post_request('/users/task_group/new/', TASK_GROUP_DATA)\n",
      "print_response_data('task_group', task_group)"
     ],
     "language": "python",
     "metadata": {},
     "outputs": []
    },
    {
     "cell_type": "code",
     "collapsed": false,
     "input": [
      "# -*- coding: utf-8 -*-\n",
      "\n",
      "# API: /users/task_group/(?P<task_group_id>\\d+)/get_task_group_info/\n",
      "\n",
      "from helper import *\n",
      "\n",
      "TASK_GROUP_ID = 2\n",
      "\n",
      "task_group = compose_get_request('/users/task_group/%d/get_task_group_info/' % TASK_GROUP_ID)\n",
      "print_response_data('task_group', task_group)"
     ],
     "language": "python",
     "metadata": {},
     "outputs": []
    },
    {
     "cell_type": "code",
     "collapsed": false,
     "input": [
      "# -*- coding: utf-8 -*-\n",
      "\n",
      "# API: /users/task_group/(?P<task_group_id>\\d+)/edit/\n",
      "\n",
      "from helper import *\n",
      "\n",
      "TASK_GROUP_ID = 2\n",
      "TASK_GROUP_DATA = {\n",
      "    \"description\": \"Generici\",\n",
      "    \"hospital\": \"Clinica d'esempio\",\n",
      "    \"id\": \"2\",\n",
      "    \"is_active\": True,\n",
      "    \"is_health_care_provider\": False,\n",
      "    \"task_group_type\": \"HF\",\n",
      "    \"title\": \"Clinica\"\n",
      "}\n",
      "\n",
      "task_group = compose_post_request('/users/task_group/%d/edit/' % TASK_GROUP_ID, TASK_GROUP_DATA)\n",
      "print_response_data('task_group', task_group)"
     ],
     "language": "python",
     "metadata": {},
     "outputs": []
    },
    {
     "cell_type": "code",
     "collapsed": false,
     "input": [
      "# -*- coding: utf-8 -*-\n",
      "\n",
      "# API: /users/task_group/list_available_states/\n",
      "\n",
      "from helper import *\n",
      "\n",
      "task_group = compose_get_request('/users/task_group/list_available_states/')\n",
      "print_response_data('task_group', task_group)"
     ],
     "language": "python",
     "metadata": {},
     "outputs": []
    },
    {
     "cell_type": "code",
     "collapsed": false,
     "input": [
      "# -*- coding: utf-8 -*-\n",
      "\n",
      "# API: /users/task_group/(?P<task_group_id>\\d+)/set_active_state/(?P<active_state>\\w+)/\n",
      "\n",
      "from helper import *\n",
      "\n",
      "TASK_GROUP_ID = 2\n",
      "TASK_GROUP_ACTIVATION_STATE = 'inactive'\n",
      "\n",
      "task_group = compose_post_request('/users/task_group/%d/set_active_state/%s/' % (TASK_GROUP_ID, TASK_GROUP_ACTIVATION_STATE))\n",
      "print_response_data('task_group', task_group)"
     ],
     "language": "python",
     "metadata": {},
     "outputs": []
    },
    {
     "cell_type": "code",
     "collapsed": false,
     "input": [
      "# -*- coding: utf-8 -*-\n",
      "\n",
      "# API: /users/task_group/(?P<task_group_id>\\d+)/is_provider/\n",
      "\n",
      "from helper import *\n",
      "\n",
      "TASK_GROUP_ID = 2\n",
      "\n",
      "task_group = compose_get_request('/users/task_group/%d/is_provider/' % TASK_GROUP_ID)\n",
      "print_response_data('task_group', task_group)"
     ],
     "language": "python",
     "metadata": {},
     "outputs": []
    },
    {
     "cell_type": "code",
     "collapsed": false,
     "input": [
      "# -*- coding: utf-8 -*-\n",
      "\n",
      "# API: /users/task_group/(?P<task_group_id>\\d+)/set_provider/\n",
      "\n",
      "from helper import *\n",
      "\n",
      "TASK_GROUP_ID = 2\n",
      "\n",
      "task_group = compose_post_request('/users/task_group/%d/set_provider/' % TASK_GROUP_ID)\n",
      "print_response_data('task_group', task_group)"
     ],
     "language": "python",
     "metadata": {},
     "outputs": []
    },
    {
     "cell_type": "code",
     "collapsed": false,
     "input": [
      "# -*- coding: utf-8 -*-\n",
      "\n",
      "# API: /users/task_group/(?P<task_group_id>\\d+)/add_user/(?P<user_id>\\d+)/\n",
      "\n",
      "from helper import *\n",
      "\n",
      "TASK_GROUP_ID = 2\n",
      "USER_ID = 3\n",
      "\n",
      "task_group = compose_post_request('/users/task_group/%d/add_user/%d/' % (TASK_GROUP_ID, USER_ID))\n",
      "print_response_data('task_group', task_group)"
     ],
     "language": "python",
     "metadata": {},
     "outputs": []
    },
    {
     "cell_type": "code",
     "collapsed": false,
     "input": [
      "# -*- coding: utf-8 -*-\n",
      "\n",
      "# API: /users/task_group/(?P<task_group_id>\\d+)/remove_user/(?P<user_id>\\d+)/\n",
      "\n",
      "from helper import *\n",
      "\n",
      "TASK_GROUP_ID = 2\n",
      "USER_ID = 3\n",
      "\n",
      "task_group = compose_post_request('/users/task_group/%d/remove_user/%d/' % (TASK_GROUP_ID, USER_ID))\n",
      "print_response_data('task_group', task_group)"
     ],
     "language": "python",
     "metadata": {},
     "outputs": []
    },
    {
     "cell_type": "code",
     "collapsed": false,
     "input": [
      "# -*- coding: utf-8 -*-\n",
      "\n",
      "# API: /users/task_group/(?P<task_group_id>\\d+)/list_users/\n",
      "\n",
      "from helper import *\n",
      "\n",
      "TASK_GROUP_ID = 2\n",
      "\n",
      "task_group = compose_get_request('/users/task_group/%d/list_users/' % TASK_GROUP_ID)\n",
      "print_response_data('task_group', task_group)"
     ],
     "language": "python",
     "metadata": {},
     "outputs": []
    },
    {
     "cell_type": "code",
     "collapsed": false,
     "input": [
      "# -*- coding: utf-8 -*-\n",
      "\n",
      "# API: /users/task_group/(?P<task_group_id>\\d+)/add_related_task_group/(?P<related_task_group_id>\\d+)/\n",
      "\n",
      "from helper import *\n",
      "\n",
      "TASK_GROUP_ID = 2\n",
      "RELATED_TASK_GROUP_ID = 26\n",
      "\n",
      "task_group = compose_post_request('/users/task_group/%d/add_related_task_group/%d/' % (TASK_GROUP_ID, RELATED_TASK_GROUP_ID))\n",
      "print_response_data('task_group', task_group)"
     ],
     "language": "python",
     "metadata": {},
     "outputs": []
    },
    {
     "cell_type": "code",
     "collapsed": false,
     "input": [
      "# -*- coding: utf-8 -*-\n",
      "\n",
      "# API: /users/task_group/(?P<task_group_id>\\d+)/remove_related_task_group/(?P<related_task_group_id>\\d+)/\n",
      "\n",
      "from helper import *\n",
      "\n",
      "TASK_GROUP_ID = 2\n",
      "RELATED_TASK_GROUP_ID = 26\n",
      "\n",
      "task_group = compose_post_request('/users/task_group/%d/remove_related_task_group/%d/' % (TASK_GROUP_ID, RELATED_TASK_GROUP_ID))\n",
      "print_response_data('task_group', task_group)"
     ],
     "language": "python",
     "metadata": {},
     "outputs": []
    },
    {
     "cell_type": "code",
     "collapsed": false,
     "input": [
      "# -*- coding: utf-8 -*-\n",
      "\n",
      "# API: /users/task_group/(?P<task_group_id>\\d+)/list_related_task_groups/\n",
      "\n",
      "from helper import *\n",
      "\n",
      "TASK_GROUP_ID = 2\n",
      "\n",
      "task_group = compose_get_request('/users/task_group/%d/list_related_task_groups/' % TASK_GROUP_ID)\n",
      "print_response_data('task_group', task_group)"
     ],
     "language": "python",
     "metadata": {},
     "outputs": []
    },
    {
     "cell_type": "code",
     "collapsed": false,
     "input": [
      "# -*- coding: utf-8 -*-\n",
      "\n",
      "# API: /users/task_group/(?P<task_group_id>\\d+)/has_clinicians/\n",
      "\n",
      "from helper import *\n",
      "\n",
      "TASK_GROUP_ID = 2\n",
      "\n",
      "task_group = compose_get_request('/users/task_group/%d/has_clinicians/' % TASK_GROUP_ID)\n",
      "print_response_data('task_group', task_group)"
     ],
     "language": "python",
     "metadata": {},
     "outputs": []
    },
    {
     "cell_type": "code",
     "collapsed": false,
     "input": [
      "# -*- coding: utf-8 -*-\n",
      "\n",
      "# API: /users/task_group/(?P<task_group_id>\\d+)/list_clinicians/\n",
      "\n",
      "from helper import *\n",
      "\n",
      "TASK_GROUP_ID = 2\n",
      "\n",
      "task_group = compose_get_request('/users/task_group/%d/list_clinicians/' % TASK_GROUP_ID)\n",
      "print_response_data('task_group', task_group)"
     ],
     "language": "python",
     "metadata": {},
     "outputs": []
    },
    {
     "cell_type": "code",
     "collapsed": false,
     "input": [
      "# -*- coding: utf-8 -*-\n",
      "\n",
      "# API: /users/task_group/(?P<task_group_id>\\d+)/has_clinician_provider/\n",
      "\n",
      "from helper import *\n",
      "\n",
      "TASK_GROUP_ID = 2\n",
      "\n",
      "task_group = compose_get_request('/users/task_group/%d/has_clinician_provider/' % TASK_GROUP_ID)\n",
      "print_response_data('task_group', task_group)"
     ],
     "language": "python",
     "metadata": {},
     "outputs": []
    },
    {
     "cell_type": "code",
     "collapsed": false,
     "input": [
      "# -*- coding: utf-8 -*-\n",
      "\n",
      "# API: /users/task_group/(?P<task_group_id>\\d+)/list_clinician_providers/\n",
      "\n",
      "from helper import *\n",
      "\n",
      "TASK_GROUP_ID = 2\n",
      "\n",
      "task_group = compose_get_request('/users/task_group/%d/list_clinician_providers/' % TASK_GROUP_ID)\n",
      "print_response_data('task_group', task_group)"
     ],
     "language": "python",
     "metadata": {},
     "outputs": []
    },
    {
     "cell_type": "heading",
     "level": 4,
     "metadata": {},
     "source": [
      "MostUser module"
     ]
    },
    {
     "cell_type": "markdown",
     "metadata": {},
     "source": [
      "MostUser module provides the following web API (run login api before run the following):\n",
      "\n",
      "* `/users/user/new/`\n",
      "\n",
      "* `/users/user/(?P<user_id>\\d+)/get_user_info/`\n",
      "\n",
      "* `/users/user/search/`\n",
      "\n",
      "* `/users/user/(?P<user_id>\\d+)/edit/`\n",
      "\n",
      "* `/users/user/(?P<user_id>\\d+)/deactivate/`\n",
      "\n",
      "* `/users/user/(?P<user_id>\\d+)/activate/`"
     ]
    },
    {
     "cell_type": "code",
     "collapsed": false,
     "input": [
      "# -*- coding: utf-8 -*-\n",
      "\n",
      "# API: /users/user/new/\n",
      "\n",
      "from helper import *\n",
      "\n",
      "\n",
      "USER_DATA = {\n",
      "    'username': 'mario.rossi',\n",
      "    'first_name': 'Mario',\n",
      "    'last_name': 'Rossi',\n",
      "    'email': 'mario.rossi@most.crs4.it',\n",
      "    'birth_date': '1980-07-08',\n",
      "    'is_active': True,\n",
      "    'is_admin': False,\n",
      "    'numeric_password': 1234,\n",
      "    'user_type': 'CL',\n",
      "    'gender': 'M',\n",
      "    'phone': '070789456',\n",
      "    'mobile': '888987654',\n",
      "}\n",
      "\n",
      "user = compose_post_request('/users/user/new/', USER_DATA)\n",
      "print_response_data('user', user)"
     ],
     "language": "python",
     "metadata": {},
     "outputs": []
    },
    {
     "cell_type": "code",
     "collapsed": false,
     "input": [
      "# -*- coding: utf-8 -*-\n",
      "\n",
      "# API: /users/user/(?P<user_id>\\d+)/get_user_info/\n",
      "\n",
      "from helper import *\n",
      "\n",
      "USER_ID = 1\n",
      "\n",
      "user = compose_get_request('/users/user/%d/get_user_info/' % USER_ID)\n",
      "print_response_data('user', user)"
     ],
     "language": "python",
     "metadata": {},
     "outputs": []
    },
    {
     "cell_type": "code",
     "collapsed": false,
     "input": [
      "# -*- coding: utf-8 -*-\n",
      "\n",
      "# API: /users/user/search/\n",
      "\n",
      "from helper import *\n",
      "\n",
      "QUERY_STRING = 'test'\n",
      "\n",
      "users = compose_get_request('/users/user/search/', QUERY_STRING)\n",
      "print_response_data('user', users)"
     ],
     "language": "python",
     "metadata": {},
     "outputs": []
    },
    {
     "cell_type": "code",
     "collapsed": false,
     "input": [
      "# -*- coding: utf-8 -*-\n",
      "\n",
      "# API: /users/user/(?P<user_id>\\d+)/edit/\n",
      "\n",
      "from helper import *\n",
      "\n",
      "USER_ID = 1\n",
      "USER_DATA = {\n",
      "    'username': 'valeria',\n",
      "    'first_name': 'Valeria',\n",
      "    'last_name': 'Lecca',\n",
      "    'email': 'valeria.lecca@most.crs4.it',\n",
      "    'birth_date': '1980-06-11',\n",
      "    'is_active': True,\n",
      "    'is_admin': True,\n",
      "    'numeric_password': 1234,\n",
      "    'user_type': 'TE',\n",
      "    'gender': 'F',\n",
      "    'phone': '070789456',\n",
      "    'mobile': '888987654',\n",
      "}\n",
      "\n",
      "user = compose_post_request('/users/user/%d/edit/' % USER_ID, USER_DATA)\n",
      "print_response_data('user', user)"
     ],
     "language": "python",
     "metadata": {},
     "outputs": []
    },
    {
     "cell_type": "code",
     "collapsed": false,
     "input": [
      "# -*- coding: utf-8 -*-\n",
      "\n",
      "# API: /users/user/(?P<user_id>\\d+)/deactivate/\n",
      "\n",
      "from helper import *\n",
      "\n",
      "USER_ID = 9\n",
      "\n",
      "user = compose_get_request('/users/user/%d/deactivate/' % USER_ID)\n",
      "print_response_data('user', user)"
     ],
     "language": "python",
     "metadata": {},
     "outputs": []
    },
    {
     "cell_type": "code",
     "collapsed": false,
     "input": [
      "# -*- coding: utf-8 -*-\n",
      "\n",
      "# API: /users/user/(?P<user_id>\\d+)/activate/\n",
      "\n",
      "from helper import *\n",
      "\n",
      "USER_ID = 9\n",
      "\n",
      "user = compose_post_request('/users/user/%d/activate/' % USER_ID)\n",
      "print_response_data('user', user)"
     ],
     "language": "python",
     "metadata": {},
     "outputs": []
    },
    {
     "cell_type": "heading",
     "level": 4,
     "metadata": {},
     "source": [
      "ClinicianUser"
     ]
    },
    {
     "cell_type": "markdown",
     "metadata": {},
     "source": [
      "ClinicianUser module provides the following web API:\n",
      "\n",
      "* `/users/clinician_user/(?P<user_id>\\d+)/is_provider/`\n",
      "\n",
      "* `/users/clinician_user/(?P<user_id>\\d+)/set_provider/`\n",
      "\n",
      "* `/users/clinician_user/search/`\n",
      "\n",
      "* `/users/clinician_user/(?P<user_id>\\d+)/get_user_info/`"
     ]
    },
    {
     "cell_type": "code",
     "collapsed": false,
     "input": [
      "# -*- coding: utf-8 -*-\n",
      "\n",
      "# API: /users/clinician_user/(?P<user_id>\\d+)/is_provider/\n",
      "\n",
      "from helper import *\n",
      "\n",
      "USER_ID = 2\n",
      "\n",
      "clinician_user = compose_get_request('/users/clinician_user/%d/is_provider/' % USER_ID)\n",
      "print_response_data('clinician_user', clinician_user)"
     ],
     "language": "python",
     "metadata": {},
     "outputs": []
    },
    {
     "cell_type": "code",
     "collapsed": false,
     "input": [
      "# -*- coding: utf-8 -*-\n",
      "\n",
      "# API: /users/clinician_user/(?P<user_id>\\d+)/set_provider/\n",
      "\n",
      "from helper import *\n",
      "\n",
      "USER_ID = 2\n",
      "\n",
      "clinician_user = compose_post_request('/users/clinician_user/%d/set_provider/' % USER_ID)\n",
      "print_response_data('clinician_user', clinician_user)"
     ],
     "language": "python",
     "metadata": {},
     "outputs": []
    },
    {
     "cell_type": "code",
     "collapsed": false,
     "input": [
      "# -*- coding: utf-8 -*-\n",
      "\n",
      "# API: /users/clinician_user/search/\n",
      "\n",
      "from helper import *\n",
      "\n",
      "QUERY_STRING = 'test'\n",
      "\n",
      "clinician_user = compose_get_request('/users/clinician_user/search/', QUERY_STRING)\n",
      "print_response_data('clinician_user', clinician_user)"
     ],
     "language": "python",
     "metadata": {},
     "outputs": []
    },
    {
     "cell_type": "code",
     "collapsed": false,
     "input": [
      "# -*- coding: utf-8 -*-\n",
      "\n",
      "# API: /users/clinician_user/(?P<user_id>\\d+)/get_user_info/\n",
      "\n",
      "from helper import *\n",
      "\n",
      "USER_ID = 2\n",
      "\n",
      "clinician_user = compose_get_request('/users/clinician_user/%d/get_user_info/' % USER_ID)\n",
      "print_response_data('clinician_user', clinician_user)"
     ],
     "language": "python",
     "metadata": {},
     "outputs": []
    },
    {
     "cell_type": "markdown",
     "metadata": {},
     "source": [
      "Now you can run logout API:"
     ]
    },
    {
     "cell_type": "code",
     "collapsed": false,
     "input": [
      "# -*- coding: utf-8 -*-\n",
      "\n",
      "# API: /users/user/logout/\n",
      "\n",
      "from helper import *\n",
      "\n",
      "response_content = compose_get_request('/users/user/logout/')\n",
      "print_response_data('user', response_content)"
     ],
     "language": "python",
     "metadata": {},
     "outputs": []
    }
   ],
   "metadata": {}
  }
 ]
}