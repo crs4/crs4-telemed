{
 "metadata": {
  "name": "",
  "signature": "sha256:8dfde196b07d61b90ab4bd1dacc98caf7faa0faf605e6181731c1c08f4c548cc"
 },
 "nbformat": 3,
 "nbformat_minor": 0,
 "worksheets": [
  {
   "cells": [
    {
     "cell_type": "code",
     "collapsed": false,
     "input": [
      "#!/usr/bin/env python\n",
      "# -*- coding: utf-8 -*-\n",
      "\n",
      "import requests\n",
      "import json\n",
      "\n",
      "\n",
      "s = requests.session()\n",
      "s.post('%s/users/user/login/' % HOST_ADDRESS, data={'username': USERNAME, 'password': PASSWORD})\n",
      "\n",
      "\n",
      "def print_response_data(class_name, dictionary):\n",
      "    print u'JSON response: %s\\n' % dictionary\n",
      "    if dictionary['success']:\n",
      "        # dump dictionary to print human readable data\n",
      "        print u'%s data:\\n%s' % (class_name, json.dumps(dictionary['data'], sort_keys=True, indent=4,\n",
      "                                                        separators=(',', ': ')))\n",
      "    else:\n",
      "        print dictionary['errors']\n",
      "\n",
      "\n",
      "def compose_post_request(api, data):\n",
      "    print 'Calling %s\\n' % api\n",
      "    response = s.post('%s%s' % (HOST_ADDRESS, api), data=data)\n",
      "    # print response.text\n",
      "    return response.json()\n",
      "\n",
      "\n",
      "def compose_get_request(api, params):\n",
      "    print 'Calling %s\\n' % api\n",
      "    response = s.get('%s%s' % (HOST_ADDRESS, api), params={'query_string': params})\n",
      "    return response.json()"
     ],
     "language": "python",
     "metadata": {},
     "outputs": []
    }
   ],
   "metadata": {}
  }
 ]
}